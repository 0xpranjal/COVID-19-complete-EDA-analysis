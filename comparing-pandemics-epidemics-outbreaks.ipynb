{
 "cells": [
  {
   "cell_type": "markdown",
   "metadata": {},
   "source": [
    "# List of Epidemics / Pandemics / Outbreak considered"
   ]
  },
  {
   "cell_type": "markdown",
   "metadata": {},
   "source": [
    "> * **COVID-19** - *COrona VIrus Disease - 2019*  \n",
    "> * **MERS** - *Middle Easter Respirator Syndrome / Camel Flu*  \n",
    "> * **SARS** - *Severe Acute Respiratory Syndrome of 2002*  \n",
    "> * **Ebola** - *Western africa ebola virus outbreak (2013-2016) of Ebola Virus Disease (EVD)*  \n",
    "> * **H1N1** - *H1N1 pandemic of 2009 / Swine Flu*  \n",
    "> * **Nipha** - *Nipha virus infection from 1st instance in Malaysia*  \n",
    "> * **Zika** - *Zika virus epidemic of 2015-2016*  "
   ]
  },
  {
   "cell_type": "markdown",
   "metadata": {},
   "source": [
    "# Libraries"
   ]
  },
  {
   "cell_type": "code",
   "execution_count": 7,
   "metadata": {
    "_cell_guid": "b1076dfc-b9ad-4769-8c92-a6c4dae69d19",
    "_kg_hide-input": true,
    "_kg_hide-output": true,
    "_uuid": "8f2839f25d086af736a60e9eeb907d3b93b6e0e5"
   },
   "outputs": [],
   "source": [
    "# utility libraries\n",
    "from datetime import timedelta\n",
    "import math\n",
    "\n",
    "# storing and anaysis\n",
    "import numpy as np\n",
    "import pandas as pd\n",
    "\n",
    "# visualization\n",
    "import matplotlib.pyplot as plt\n",
    "import matplotlib.dates as mdates\n",
    "import seaborn as sns\n",
    "import plotly.express as px\n",
    "import pandas.util.testing as tm\n"
   ]
  },
  {
   "cell_type": "code",
   "execution_count": 8,
   "metadata": {
    "_kg_hide-input": true,
    "_kg_hide-output": true
   },
   "outputs": [],
   "source": [
    "# dealing with geographic data\n",
    "import geopandas as gpd\n",
    "from geopandas.tools import geocode\n",
    "\n",
    "# implicitly registered datetime converter for a matplotlib plotting method\n",
    "from pandas.plotting import register_matplotlib_converters\n",
    "register_matplotlib_converters()"
   ]
  },
  {
   "cell_type": "code",
   "execution_count": 9,
   "metadata": {
    "_kg_hide-input": true,
    "_kg_hide-output": true
   },
   "outputs": [
    {
     "data": {
      "text/html": [
       "        <script type=\"text/javascript\">\n",
       "        window.PlotlyConfig = {MathJaxConfig: 'local'};\n",
       "        if (window.MathJax) {MathJax.Hub.Config({SVG: {font: \"STIX-Web\"}});}\n",
       "        if (typeof require !== 'undefined') {\n",
       "        require.undef(\"plotly\");\n",
       "        requirejs.config({\n",
       "            paths: {\n",
       "                'plotly': ['https://cdn.plot.ly/plotly-latest.min']\n",
       "            }\n",
       "        });\n",
       "        require(['plotly'], function(Plotly) {\n",
       "            window._Plotly = Plotly;\n",
       "        });\n",
       "        }\n",
       "        </script>\n",
       "        "
      ]
     },
     "metadata": {},
     "output_type": "display_data"
    }
   ],
   "source": [
    "# offline plotly\n",
    "from plotly.offline import plot, iplot, init_notebook_mode\n",
    "init_notebook_mode(connected=True)"
   ]
  },
  {
   "cell_type": "code",
   "execution_count": 10,
   "metadata": {
    "_kg_hide-input": true,
    "_kg_hide-output": true
   },
   "outputs": [],
   "source": [
    "# theme\n",
    "sns.set_style('whitegrid')"
   ]
  },
  {
   "cell_type": "markdown",
   "metadata": {},
   "source": [
    "# Data and Preprocessing"
   ]
  },
  {
   "cell_type": "markdown",
   "metadata": {},
   "source": [
    "### COVID-19 Dataset"
   ]
  },
  {
   "cell_type": "code",
   "execution_count": 11,
   "metadata": {
    "_cell_guid": "79c7e3d0-c299-4dcb-8224-4455121ee9b0",
    "_kg_hide-input": true,
    "_kg_hide-output": true,
    "_uuid": "d629ff2d2480ee46fbb7e2d37f6b5fab8052498a",
    "scrolled": true
   },
   "outputs": [
    {
     "ename": "FileNotFoundError",
     "evalue": "[Errno 2] File ../input/corona-virus-report/covid_19_clean_complete.csv does not exist: '../input/corona-virus-report/covid_19_clean_complete.csv'",
     "output_type": "error",
     "traceback": [
      "\u001b[0;31m---------------------------------------------------------------------------\u001b[0m",
      "\u001b[0;31mFileNotFoundError\u001b[0m                         Traceback (most recent call last)",
      "\u001b[0;32m<ipython-input-11-aafc9e679db5>\u001b[0m in \u001b[0;36m<module>\u001b[0;34m\u001b[0m\n\u001b[1;32m      4\u001b[0m \u001b[0;31m# covid_19 dataset\u001b[0m\u001b[0;34m\u001b[0m\u001b[0;34m\u001b[0m\u001b[0;34m\u001b[0m\u001b[0m\n\u001b[1;32m      5\u001b[0m covid_19 = pd.read_csv('../input/corona-virus-report/covid_19_clean_complete.csv', \n\u001b[0;32m----> 6\u001b[0;31m                        parse_dates=['Date'])\n\u001b[0m\u001b[1;32m      7\u001b[0m \u001b[0;34m\u001b[0m\u001b[0m\n\u001b[1;32m      8\u001b[0m \u001b[0mcovid_19\u001b[0m\u001b[0;34m.\u001b[0m\u001b[0mloc\u001b[0m\u001b[0;34m[\u001b[0m\u001b[0mcovid_19\u001b[0m\u001b[0;34m[\u001b[0m\u001b[0;34m'Province/State'\u001b[0m\u001b[0;34m]\u001b[0m\u001b[0;34m==\u001b[0m\u001b[0;34m'Greenland'\u001b[0m\u001b[0;34m,\u001b[0m \u001b[0;34m'Country/Region'\u001b[0m\u001b[0;34m]\u001b[0m \u001b[0;34m=\u001b[0m \u001b[0;34m'Greenland'\u001b[0m\u001b[0;34m\u001b[0m\u001b[0;34m\u001b[0m\u001b[0m\n",
      "\u001b[0;32m/opt/anaconda3/lib/python3.7/site-packages/pandas/io/parsers.py\u001b[0m in \u001b[0;36mparser_f\u001b[0;34m(filepath_or_buffer, sep, delimiter, header, names, index_col, usecols, squeeze, prefix, mangle_dupe_cols, dtype, engine, converters, true_values, false_values, skipinitialspace, skiprows, skipfooter, nrows, na_values, keep_default_na, na_filter, verbose, skip_blank_lines, parse_dates, infer_datetime_format, keep_date_col, date_parser, dayfirst, cache_dates, iterator, chunksize, compression, thousands, decimal, lineterminator, quotechar, quoting, doublequote, escapechar, comment, encoding, dialect, error_bad_lines, warn_bad_lines, delim_whitespace, low_memory, memory_map, float_precision)\u001b[0m\n\u001b[1;32m    674\u001b[0m         )\n\u001b[1;32m    675\u001b[0m \u001b[0;34m\u001b[0m\u001b[0m\n\u001b[0;32m--> 676\u001b[0;31m         \u001b[0;32mreturn\u001b[0m \u001b[0m_read\u001b[0m\u001b[0;34m(\u001b[0m\u001b[0mfilepath_or_buffer\u001b[0m\u001b[0;34m,\u001b[0m \u001b[0mkwds\u001b[0m\u001b[0;34m)\u001b[0m\u001b[0;34m\u001b[0m\u001b[0;34m\u001b[0m\u001b[0m\n\u001b[0m\u001b[1;32m    677\u001b[0m \u001b[0;34m\u001b[0m\u001b[0m\n\u001b[1;32m    678\u001b[0m     \u001b[0mparser_f\u001b[0m\u001b[0;34m.\u001b[0m\u001b[0m__name__\u001b[0m \u001b[0;34m=\u001b[0m \u001b[0mname\u001b[0m\u001b[0;34m\u001b[0m\u001b[0;34m\u001b[0m\u001b[0m\n",
      "\u001b[0;32m/opt/anaconda3/lib/python3.7/site-packages/pandas/io/parsers.py\u001b[0m in \u001b[0;36m_read\u001b[0;34m(filepath_or_buffer, kwds)\u001b[0m\n\u001b[1;32m    446\u001b[0m \u001b[0;34m\u001b[0m\u001b[0m\n\u001b[1;32m    447\u001b[0m     \u001b[0;31m# Create the parser.\u001b[0m\u001b[0;34m\u001b[0m\u001b[0;34m\u001b[0m\u001b[0;34m\u001b[0m\u001b[0m\n\u001b[0;32m--> 448\u001b[0;31m     \u001b[0mparser\u001b[0m \u001b[0;34m=\u001b[0m \u001b[0mTextFileReader\u001b[0m\u001b[0;34m(\u001b[0m\u001b[0mfp_or_buf\u001b[0m\u001b[0;34m,\u001b[0m \u001b[0;34m**\u001b[0m\u001b[0mkwds\u001b[0m\u001b[0;34m)\u001b[0m\u001b[0;34m\u001b[0m\u001b[0;34m\u001b[0m\u001b[0m\n\u001b[0m\u001b[1;32m    449\u001b[0m \u001b[0;34m\u001b[0m\u001b[0m\n\u001b[1;32m    450\u001b[0m     \u001b[0;32mif\u001b[0m \u001b[0mchunksize\u001b[0m \u001b[0;32mor\u001b[0m \u001b[0miterator\u001b[0m\u001b[0;34m:\u001b[0m\u001b[0;34m\u001b[0m\u001b[0;34m\u001b[0m\u001b[0m\n",
      "\u001b[0;32m/opt/anaconda3/lib/python3.7/site-packages/pandas/io/parsers.py\u001b[0m in \u001b[0;36m__init__\u001b[0;34m(self, f, engine, **kwds)\u001b[0m\n\u001b[1;32m    878\u001b[0m             \u001b[0mself\u001b[0m\u001b[0;34m.\u001b[0m\u001b[0moptions\u001b[0m\u001b[0;34m[\u001b[0m\u001b[0;34m\"has_index_names\"\u001b[0m\u001b[0;34m]\u001b[0m \u001b[0;34m=\u001b[0m \u001b[0mkwds\u001b[0m\u001b[0;34m[\u001b[0m\u001b[0;34m\"has_index_names\"\u001b[0m\u001b[0;34m]\u001b[0m\u001b[0;34m\u001b[0m\u001b[0;34m\u001b[0m\u001b[0m\n\u001b[1;32m    879\u001b[0m \u001b[0;34m\u001b[0m\u001b[0m\n\u001b[0;32m--> 880\u001b[0;31m         \u001b[0mself\u001b[0m\u001b[0;34m.\u001b[0m\u001b[0m_make_engine\u001b[0m\u001b[0;34m(\u001b[0m\u001b[0mself\u001b[0m\u001b[0;34m.\u001b[0m\u001b[0mengine\u001b[0m\u001b[0;34m)\u001b[0m\u001b[0;34m\u001b[0m\u001b[0;34m\u001b[0m\u001b[0m\n\u001b[0m\u001b[1;32m    881\u001b[0m \u001b[0;34m\u001b[0m\u001b[0m\n\u001b[1;32m    882\u001b[0m     \u001b[0;32mdef\u001b[0m \u001b[0mclose\u001b[0m\u001b[0;34m(\u001b[0m\u001b[0mself\u001b[0m\u001b[0;34m)\u001b[0m\u001b[0;34m:\u001b[0m\u001b[0;34m\u001b[0m\u001b[0;34m\u001b[0m\u001b[0m\n",
      "\u001b[0;32m/opt/anaconda3/lib/python3.7/site-packages/pandas/io/parsers.py\u001b[0m in \u001b[0;36m_make_engine\u001b[0;34m(self, engine)\u001b[0m\n\u001b[1;32m   1112\u001b[0m     \u001b[0;32mdef\u001b[0m \u001b[0m_make_engine\u001b[0m\u001b[0;34m(\u001b[0m\u001b[0mself\u001b[0m\u001b[0;34m,\u001b[0m \u001b[0mengine\u001b[0m\u001b[0;34m=\u001b[0m\u001b[0;34m\"c\"\u001b[0m\u001b[0;34m)\u001b[0m\u001b[0;34m:\u001b[0m\u001b[0;34m\u001b[0m\u001b[0;34m\u001b[0m\u001b[0m\n\u001b[1;32m   1113\u001b[0m         \u001b[0;32mif\u001b[0m \u001b[0mengine\u001b[0m \u001b[0;34m==\u001b[0m \u001b[0;34m\"c\"\u001b[0m\u001b[0;34m:\u001b[0m\u001b[0;34m\u001b[0m\u001b[0;34m\u001b[0m\u001b[0m\n\u001b[0;32m-> 1114\u001b[0;31m             \u001b[0mself\u001b[0m\u001b[0;34m.\u001b[0m\u001b[0m_engine\u001b[0m \u001b[0;34m=\u001b[0m \u001b[0mCParserWrapper\u001b[0m\u001b[0;34m(\u001b[0m\u001b[0mself\u001b[0m\u001b[0;34m.\u001b[0m\u001b[0mf\u001b[0m\u001b[0;34m,\u001b[0m \u001b[0;34m**\u001b[0m\u001b[0mself\u001b[0m\u001b[0;34m.\u001b[0m\u001b[0moptions\u001b[0m\u001b[0;34m)\u001b[0m\u001b[0;34m\u001b[0m\u001b[0;34m\u001b[0m\u001b[0m\n\u001b[0m\u001b[1;32m   1115\u001b[0m         \u001b[0;32melse\u001b[0m\u001b[0;34m:\u001b[0m\u001b[0;34m\u001b[0m\u001b[0;34m\u001b[0m\u001b[0m\n\u001b[1;32m   1116\u001b[0m             \u001b[0;32mif\u001b[0m \u001b[0mengine\u001b[0m \u001b[0;34m==\u001b[0m \u001b[0;34m\"python\"\u001b[0m\u001b[0;34m:\u001b[0m\u001b[0;34m\u001b[0m\u001b[0;34m\u001b[0m\u001b[0m\n",
      "\u001b[0;32m/opt/anaconda3/lib/python3.7/site-packages/pandas/io/parsers.py\u001b[0m in \u001b[0;36m__init__\u001b[0;34m(self, src, **kwds)\u001b[0m\n\u001b[1;32m   1889\u001b[0m         \u001b[0mkwds\u001b[0m\u001b[0;34m[\u001b[0m\u001b[0;34m\"usecols\"\u001b[0m\u001b[0;34m]\u001b[0m \u001b[0;34m=\u001b[0m \u001b[0mself\u001b[0m\u001b[0;34m.\u001b[0m\u001b[0musecols\u001b[0m\u001b[0;34m\u001b[0m\u001b[0;34m\u001b[0m\u001b[0m\n\u001b[1;32m   1890\u001b[0m \u001b[0;34m\u001b[0m\u001b[0m\n\u001b[0;32m-> 1891\u001b[0;31m         \u001b[0mself\u001b[0m\u001b[0;34m.\u001b[0m\u001b[0m_reader\u001b[0m \u001b[0;34m=\u001b[0m \u001b[0mparsers\u001b[0m\u001b[0;34m.\u001b[0m\u001b[0mTextReader\u001b[0m\u001b[0;34m(\u001b[0m\u001b[0msrc\u001b[0m\u001b[0;34m,\u001b[0m \u001b[0;34m**\u001b[0m\u001b[0mkwds\u001b[0m\u001b[0;34m)\u001b[0m\u001b[0;34m\u001b[0m\u001b[0;34m\u001b[0m\u001b[0m\n\u001b[0m\u001b[1;32m   1892\u001b[0m         \u001b[0mself\u001b[0m\u001b[0;34m.\u001b[0m\u001b[0munnamed_cols\u001b[0m \u001b[0;34m=\u001b[0m \u001b[0mself\u001b[0m\u001b[0;34m.\u001b[0m\u001b[0m_reader\u001b[0m\u001b[0;34m.\u001b[0m\u001b[0munnamed_cols\u001b[0m\u001b[0;34m\u001b[0m\u001b[0;34m\u001b[0m\u001b[0m\n\u001b[1;32m   1893\u001b[0m \u001b[0;34m\u001b[0m\u001b[0m\n",
      "\u001b[0;32mpandas/_libs/parsers.pyx\u001b[0m in \u001b[0;36mpandas._libs.parsers.TextReader.__cinit__\u001b[0;34m()\u001b[0m\n",
      "\u001b[0;32mpandas/_libs/parsers.pyx\u001b[0m in \u001b[0;36mpandas._libs.parsers.TextReader._setup_parser_source\u001b[0;34m()\u001b[0m\n",
      "\u001b[0;31mFileNotFoundError\u001b[0m: [Errno 2] File ../input/corona-virus-report/covid_19_clean_complete.csv does not exist: '../input/corona-virus-report/covid_19_clean_complete.csv'"
     ]
    }
   ],
   "source": [
    "# COVID-19\n",
    "# --------\n",
    "\n",
    "# covid_19 dataset\n",
    "covid_19 = pd.read_csv('../input/corona-virus-report/covid_19_clean_complete.csv', \n",
    "                       parse_dates=['Date'])\n",
    "\n",
    "covid_19.loc[covid_19['Province/State']=='Greenland', 'Country/Region'] = 'Greenland'\n",
    "\n",
    "# selecting important columns only\n",
    "covid_19 = covid_19[['Date', 'Country/Region', 'Confirmed', 'Deaths', 'Recovered']]\n",
    "\n",
    "# replacing Mainland china with just China\n",
    "covid_19['Country/Region'] = covid_19['Country/Region'].replace('Mainland China', 'China')\n",
    "\n",
    "# renaming columns\n",
    "covid_19.columns = ['Date', 'Country', 'Cases', 'Deaths', 'Recovered']\n",
    "\n",
    "# group by date and country\n",
    "covid_19 = covid_19.groupby(['Date', 'Country'])['Cases', 'Deaths', 'Recovered']\n",
    "covid_19 = covid_19.sum().reset_index()\n",
    "\n",
    "# covid_19.head()"
   ]
  },
  {
   "cell_type": "code",
   "execution_count": null,
   "metadata": {
    "_kg_hide-input": true,
    "_kg_hide-output": true
   },
   "outputs": [],
   "source": [
    "# latest\n",
    "c_lat = covid_19[covid_19['Date'] == max(covid_19['Date'])].reset_index()\n",
    "\n",
    "# latest grouped by country\n",
    "c_lat_grp = c_lat.groupby('Country')['Cases', 'Deaths', 'Recovered'].sum().reset_index()\n",
    "\n",
    "# nth day\n",
    "covid_19['nth_day'] = (covid_19['Date'] - min(covid_19['Date'])).dt.days"
   ]
  },
  {
   "cell_type": "code",
   "execution_count": null,
   "metadata": {
    "_kg_hide-input": true,
    "_kg_hide-output": true
   },
   "outputs": [],
   "source": [
    "# day by day\n",
    "c_dbd = covid_19.groupby('Date')['Cases', 'Deaths', 'Recovered'].sum().reset_index()\n",
    "\n",
    "# nth day\n",
    "c_dbd['nth_day'] = covid_19.groupby('Date')['nth_day'].max().values\n",
    "\n",
    "# no. of countries\n",
    "temp = covid_19[covid_19['Cases']>0]\n",
    "c_dbd['n_countries'] = temp.groupby('Date')['Country'].apply(len).values\n",
    "\n",
    "c_dbd['new_cases'] = c_dbd['Cases'].diff()\n",
    "c_dbd['new_deaths'] = c_dbd['Deaths'].diff()\n",
    "c_dbd['epidemic'] = 'COVID-19'"
   ]
  },
  {
   "cell_type": "markdown",
   "metadata": {},
   "source": [
    "### EBOLA Dataset"
   ]
  },
  {
   "cell_type": "code",
   "execution_count": null,
   "metadata": {
    "_kg_hide-input": true,
    "_kg_hide-output": true
   },
   "outputs": [],
   "source": [
    "# EBOLA\n",
    "# ------\n",
    "\n",
    "# ebola dataset\n",
    "ebola_14 = pd.read_csv(\"../input/ebola-outbreak-20142016-complete-dataset/ebola_2014_2016_clean.csv\", \n",
    "                       parse_dates=['Date'])\n",
    "\n",
    "# ebola_14 = ebola_14[ebola_14['Date']!=max(ebola_14['Date'])]\n",
    "\n",
    "# selecting important columns only\n",
    "ebola_14 = ebola_14[['Date', 'Country', \n",
    "                     'Cumulative no. of confirmed, probable and suspected cases',\n",
    "                     'Cumulative no. of confirmed, probable and suspected deaths']]\n",
    "\n",
    "# renaming columns\n",
    "ebola_14.columns = ['Date', 'Country', 'Cases', 'Deaths']\n",
    "ebola_14.head()\n",
    "\n",
    "# group by date and country\n",
    "ebola_14 = ebola_14.groupby(['Date', 'Country'])['Cases', 'Deaths']\n",
    "ebola_14 = ebola_14.sum().reset_index()\n",
    "\n",
    "# filling missing values\n",
    "ebola_14['Cases'] = ebola_14['Cases'].fillna(0)\n",
    "ebola_14['Deaths'] = ebola_14['Deaths'].fillna(0)\n",
    "\n",
    "# converting datatypes\n",
    "ebola_14['Cases'] = ebola_14['Cases'].astype('int')\n",
    "ebola_14['Deaths'] = ebola_14['Deaths'].astype('int')\n",
    "\n",
    "# ebola_14.head()"
   ]
  },
  {
   "cell_type": "code",
   "execution_count": null,
   "metadata": {
    "_kg_hide-input": true,
    "_kg_hide-output": true
   },
   "outputs": [],
   "source": [
    "# latest\n",
    "e_lat = ebola_14[ebola_14['Date'] == max(ebola_14['Date'])].reset_index()\n",
    "\n",
    "# latest grouped by country\n",
    "e_lat_grp = e_lat.groupby('Country')['Cases', 'Deaths'].sum().reset_index()\n",
    "\n",
    "# nth day\n",
    "ebola_14['nth_day'] = (ebola_14['Date'] - min(ebola_14['Date'])).dt.days"
   ]
  },
  {
   "cell_type": "code",
   "execution_count": null,
   "metadata": {
    "_kg_hide-input": true,
    "_kg_hide-output": true
   },
   "outputs": [],
   "source": [
    "# day by day\n",
    "e_dbd = ebola_14.groupby('Date')['Cases', 'Deaths'].sum().reset_index()\n",
    "\n",
    "# nth day\n",
    "e_dbd['nth_day'] = ebola_14.groupby('Date')['nth_day'].max().values\n",
    "\n",
    "# no. of countries\n",
    "temp = ebola_14[ebola_14['Cases']>0]\n",
    "e_dbd['n_countries'] = temp.groupby('Date')['Country'].apply(len).values\n",
    "\n",
    "e_dbd['new_cases'] = e_dbd['Cases'].diff()\n",
    "e_dbd['new_deaths'] = e_dbd['Deaths'].diff()\n",
    "e_dbd['epidemic'] = 'EBOLA'"
   ]
  },
  {
   "cell_type": "markdown",
   "metadata": {},
   "source": [
    "### SARS Dataset"
   ]
  },
  {
   "cell_type": "code",
   "execution_count": null,
   "metadata": {
    "_kg_hide-input": true,
    "_kg_hide-output": true
   },
   "outputs": [],
   "source": [
    "# SARS\n",
    "# ----\n",
    "\n",
    "# sars dataset\n",
    "sars_03 = pd.read_csv(\"../input/sars-outbreak-2003-complete-dataset/sars_2003_complete_dataset_clean.csv\", \n",
    "                       parse_dates=['Date'])\n",
    "\n",
    "# selecting important columns only\n",
    "sars_03 = sars_03[['Date', 'Country', 'Cumulative number of case(s)', \n",
    "                   'Number of deaths', 'Number recovered']]\n",
    "\n",
    "# renaming columns\n",
    "sars_03.columns = ['Date', 'Country', 'Cases', 'Deaths', 'Recovered']\n",
    "\n",
    "# group by date and country\n",
    "sars_03 = sars_03.groupby(['Date', 'Country'])['Cases', 'Deaths', 'Recovered']\n",
    "sars_03 = sars_03.sum().reset_index()\n",
    "\n",
    "# s_dbd.head()"
   ]
  },
  {
   "cell_type": "code",
   "execution_count": null,
   "metadata": {
    "_kg_hide-input": true,
    "_kg_hide-output": true
   },
   "outputs": [],
   "source": [
    "# latest\n",
    "s_lat = sars_03[sars_03['Date'] == max(sars_03['Date'])].reset_index()\n",
    "\n",
    "# latest grouped by country\n",
    "s_lat_grp = s_lat.groupby('Country')['Cases', 'Deaths', 'Recovered'].sum().reset_index()\n",
    "\n",
    "# nth day\n",
    "sars_03['nth_day'] = (sars_03['Date'] - min(sars_03['Date'])).dt.days"
   ]
  },
  {
   "cell_type": "code",
   "execution_count": null,
   "metadata": {
    "_kg_hide-input": true,
    "_kg_hide-output": true
   },
   "outputs": [],
   "source": [
    "# day by day\n",
    "s_dbd = sars_03.groupby('Date')['Cases', 'Deaths', 'Recovered'].sum().reset_index()\n",
    "\n",
    "# nth day\n",
    "s_dbd['nth_day'] = sars_03.groupby('Date')['nth_day'].max().values\n",
    "\n",
    "# no. of countries\n",
    "temp = sars_03[sars_03['Cases']>0]\n",
    "s_dbd['n_countries'] = temp.groupby('Date')['Country'].apply(len).values\n",
    "\n",
    "\n",
    "s_dbd['new_cases'] = s_dbd['Cases'].diff()\n",
    "s_dbd['new_deaths'] = s_dbd['Deaths'].diff()\n",
    "s_dbd['epidemic'] = 'SARS'"
   ]
  },
  {
   "cell_type": "markdown",
   "metadata": {},
   "source": [
    "### MERS Dataset"
   ]
  },
  {
   "cell_type": "code",
   "execution_count": null,
   "metadata": {
    "_kg_hide-input": true,
    "_kg_hide-output": true
   },
   "outputs": [],
   "source": [
    "# Country wise data\n",
    "# =================\n",
    "\n",
    "# read data\n",
    "mers_cntry = pd.read_csv(\"../input/mers-outbreak-dataset-20122019/country_count_latest.csv\")"
   ]
  },
  {
   "cell_type": "code",
   "execution_count": null,
   "metadata": {
    "_kg_hide-input": true,
    "_kg_hide-output": true
   },
   "outputs": [],
   "source": [
    "# Weekly data\n",
    "# ===========\n",
    "\n",
    "# read data\n",
    "mers_weekly = pd.read_csv(\"../input/mers-outbreak-dataset-20122019/weekly_clean.csv\")\n",
    "\n",
    "# create 'Year-Week' columns\n",
    "mers_weekly['Year-Week'] = mers_weekly['Year'].astype(str) + ' - ' + mers_weekly['Week'].astype(str)\n",
    "\n",
    "# date from year and week column\n",
    "mers_weekly['Date'] = pd.to_datetime(mers_weekly['Week'].astype(str) + \n",
    "                                     mers_weekly['Year'].astype(str).add('-1'),format='%V%G-%u')\n",
    "\n",
    "# last few rows\n",
    "mers_weekly.head()"
   ]
  },
  {
   "cell_type": "markdown",
   "metadata": {},
   "source": [
    "### H1N1"
   ]
  },
  {
   "cell_type": "code",
   "execution_count": null,
   "metadata": {
    "_kg_hide-input": true,
    "_kg_hide-output": true
   },
   "outputs": [],
   "source": [
    "# complete dataset\n",
    "h1n1 = pd.read_csv('../input/h1n1-swine-flu-2009-pandemic-dataset/data.csv')\n",
    "\n",
    "# fix datetime\n",
    "h1n1['Date'] = pd.to_datetime(h1n1['Date'])\n",
    "\n",
    "# first few rows\n",
    "h1n1.head()"
   ]
  },
  {
   "cell_type": "code",
   "execution_count": null,
   "metadata": {
    "_kg_hide-input": true,
    "_kg_hide-output": true
   },
   "outputs": [],
   "source": [
    "# day wise\n",
    "h_dbd = h1n1 \\\n",
    "                .groupby('Date')['Cumulative no. of cases', 'Cumulative no. of deaths'] \\\n",
    "                .sum() \\\n",
    "                .reset_index()\n",
    "\n",
    "# no. of countries column\n",
    "h_dbd['No. of countries'] = h1n1.groupby('Date').apply(len).values\n",
    "\n",
    "# column name\n",
    "h_dbd.columns = ['Date', 'Cases', 'Deaths', 'n_countries']\n",
    "\n",
    "# epidemic name\n",
    "h_dbd['epidemic'] = 'H1N1'\n",
    "\n",
    "# nth day\n",
    "h_dbd['nth_day'] = (h_dbd['Date'] - min(h_dbd['Date'])).dt.days\n",
    "\n",
    "# first few rows\n",
    "h_dbd.head()              "
   ]
  },
  {
   "cell_type": "markdown",
   "metadata": {
    "_kg_hide-input": false
   },
   "source": [
    "### Combined"
   ]
  },
  {
   "cell_type": "code",
   "execution_count": null,
   "metadata": {
    "_kg_hide-input": true,
    "_kg_hide-output": true
   },
   "outputs": [],
   "source": [
    "combined = pd.concat([s_dbd, h_dbd, e_dbd, c_dbd], axis=0, sort=True)\n",
    "combined.head()"
   ]
  },
  {
   "cell_type": "markdown",
   "metadata": {},
   "source": [
    "### Geo Data"
   ]
  },
  {
   "cell_type": "code",
   "execution_count": null,
   "metadata": {
    "_kg_hide-input": true,
    "_kg_hide-output": true
   },
   "outputs": [],
   "source": [
    "world_map = gpd.read_file('../input/human-development-index-hdi/countries.geojson')\n",
    "world_map = world_map[world_map['name']!='Antarctica']\n",
    "world_map = world_map[['name', 'continent', 'geometry']]\n",
    "\n",
    "world_map.head()"
   ]
  },
  {
   "cell_type": "markdown",
   "metadata": {},
   "source": [
    "### Combined data"
   ]
  },
  {
   "cell_type": "code",
   "execution_count": null,
   "metadata": {
    "_kg_hide-input": true,
    "_kg_hide-output": true
   },
   "outputs": [],
   "source": [
    "# name of the epidemic\n",
    "epidemic = ['COVID-19', 'MERS', 'SARS', 'EBOLA', 'H1N1', 'NIPHA', 'ZIKA']\n",
    "# no. of confirmed cases\n",
    "confirmed = [c_lat['Cases'].sum(), '2521', '8098', '28646', '491382', '', '']\n",
    "# no. of deaths reported\n",
    "deaths = [c_lat['Deaths'].sum(), '866', '774', '11323', '18449', '', '']\n",
    "# no. of recovered cases\n",
    "recovered = [c_lat['Recovered'].sum(), '', '', '', '', '', '']\n",
    "# no. of HCW(health care workers) got affected\n",
    "health_care_workers = ['', '', '21', '', '', '', '']"
   ]
  },
  {
   "cell_type": "code",
   "execution_count": null,
   "metadata": {
    "_kg_hide-input": true,
    "_kg_hide-output": true
   },
   "outputs": [],
   "source": [
    "# no. of countries or regions to which epidemic spread\n",
    "no_of_countries_or_region = ['216', '28', '29', '10', '214', '4', '91']\n",
    "# first reported place\n",
    "first_reported_place = ['Wuhan, China', 'Jeddah, Saudi Arabia', 'Foshan City, Guangdong, China', 'Meliandou, Guinea', 'Veracruz, Mexico', 'Malaysia', 'Uganda']\n",
    "# first reported country\n",
    "first_reported_country = ['China', 'Saudi Arabia', 'China', 'Guinea', 'North America', 'Malaysia', 'Uganda']"
   ]
  },
  {
   "cell_type": "code",
   "execution_count": null,
   "metadata": {
    "_kg_hide-input": true,
    "_kg_hide-output": true
   },
   "outputs": [],
   "source": [
    "# first reported year\n",
    "first_reported_year = ['2019', '2012', '2002', '2014', '2009', '1999', '']\n",
    "# first reported data\n",
    "first_reported_date = ['8 December, 2019', 'June 13, 2012', 'November 16, 2002', 'March 23, 2014', 'April 18, 2009', '', '']\n",
    "# epidemic span\n",
    "span = ['2019-2020', '2012-Present', '2002-2004', '2014-2016', '2009-2010', '', '']\n",
    "\n",
    "# day on which no. of cases reached 100 \n",
    "date_100th_case = ['', 'July 22, 2013', '', '31 March, 2014', '28, April 2009', '', '']\n",
    "# day on which no. of cases reached 1000\n",
    "date_1000th_case = ['25 January, 2020', '3 December, 2014', '26 March, 2003', '23 July, 2014', '4 May, 2009 ', '', '']\n",
    "# day on which no. of cases reached 10000\n",
    "date_10000th_case = ['1 February 2020', '', '', '19 October, 2014', '20th May, 2009', '', '']\n",
    "# day on which no. of cases reached 100000\n",
    "date_100000th_case = ['6 March, 2020', '', '', '', '', '', '']"
   ]
  },
  {
   "cell_type": "code",
   "execution_count": null,
   "metadata": {
    "_kg_hide-input": true,
    "_kg_hide-output": true
   },
   "outputs": [],
   "source": [
    "# estimated no. of people infected by a individual with diseases\n",
    "ro = ['2-2.5', '0.3-0.8', '2-4', '1.6-2', '1.2-1.6', '0.48-0.49', '3-6.6']\n",
    "\n",
    "# cases fatality rate\n",
    "cfr = ['1.38-3.4', '34.4-43', '9.6-11', '49-53', '0.05-0.1', '40-70', '7.2-9.6']\n",
    "\n",
    "# estimated time from exposure to first symptoms\n",
    "incubation_period = ['4-14', '2-14', '2-7', '2-21', '2-6', '4-14', '3-14']\n",
    "\n",
    "# estimated percentage for total cases\n",
    "hospitalization_rate = ['19', 'Most cases', 'Most cases', '', '2', '', '']"
   ]
  },
  {
   "cell_type": "code",
   "execution_count": null,
   "metadata": {
    "_kg_hide-input": true,
    "_kg_hide-output": true
   },
   "outputs": [],
   "source": [
    "# create a dataframe\n",
    "# ==================\n",
    "\n",
    "# create a dataframe\n",
    "df = pd.DataFrame({'Epidemic' : epidemic, \n",
    "                   'Confirmed': confirmed, \n",
    "                   'Deaths': deaths, \n",
    "                   'Recovered': recovered, \n",
    "                   'HCW': health_care_workers, \n",
    "                   \n",
    "                   'No. of Countries': no_of_countries_or_region, \n",
    "                   'First Reported Place': first_reported_place, \n",
    "                   'First Reported Country': first_reported_country, \n",
    "                   \n",
    "                   'First Reported Year': first_reported_year, \n",
    "                   'First Reported Date': first_reported_date, \n",
    "                   '100th Case On': date_100th_case, \n",
    "                   '1000th Case On': date_1000th_case, \n",
    "                   '10000th Case On': date_10000th_case, \n",
    "                   '100000th Case On': date_100000th_case, \n",
    "                   \n",
    "                   'Ro': ro, \n",
    "                   'CFR': cfr, \n",
    "                   'Incubation Period': incubation_period, \n",
    "                   'Hospitalization Rate': hospitalization_rate})\n",
    "    \n",
    "# dataframe\n",
    "# df"
   ]
  },
  {
   "cell_type": "code",
   "execution_count": null,
   "metadata": {
    "_kg_hide-input": true,
    "_kg_hide-output": true
   },
   "outputs": [],
   "source": [
    "# preprocessing\n",
    "# =============\n",
    "\n",
    "# fix numerical values\n",
    "# ====================\n",
    "for col in ['Confirmed', 'Deaths', 'Recovered', 'HCW', 'No. of Countries', \n",
    "            'First Reported Year']:\n",
    "    df[col] = df[col].replace('', 0)\n",
    "    df[col] = df[col].astype('int')\n",
    "    \n",
    "    \n",
    "# fix datetime values\n",
    "# ===================\n",
    "for col in ['First Reported Date', '100th Case On', '1000th Case On',\n",
    "            '10000th Case On', '100000th Case On']:\n",
    "    # df[col] = df[col].replace('', 0)\n",
    "    df[col] = pd.to_datetime(df[col])\n",
    "    \n",
    "    \n",
    "# get latitude and longitude of the origin place\n",
    "# ==============================================\n",
    "\n",
    "# container for latitude and longitude values\n",
    "# lon = []\n",
    "# lat = []\n",
    "\n",
    "# use geocode library to get latitude and longitude\n",
    "# for place in df['First Reported Place']:\n",
    "#     result = geocode(place, timeout=10)\n",
    "#     point = result.geometry.iloc[0]\n",
    "#     lon.append(point.x)\n",
    "#     lat.append(point.y)\n",
    "    \n",
    "# manually add latitude and longitude values\n",
    "lat = [30.5928, 21.4858, 23.0215, 8.6161, 19.1738, 4.2105, 1.3733]\n",
    "lon = [114.3055, 39.1925, 113.1214, 10.0612, -96.1342, 101.9758, 32.2903]\n",
    "\n",
    "# add to dataframe\n",
    "df['Latitude'] = lat\n",
    "df['Longitude'] = lon\n",
    "    \n",
    "# dataframe\n",
    "df"
   ]
  },
  {
   "cell_type": "markdown",
   "metadata": {},
   "source": [
    "# Utitlity Functions"
   ]
  },
  {
   "cell_type": "code",
   "execution_count": null,
   "metadata": {
    "_kg_hide-input": true,
    "_kg_hide-output": true
   },
   "outputs": [],
   "source": [
    "# plot cards in grid\n",
    "def plot_card_grid(epidemic, color):\n",
    "    \n",
    "    col = ['Confirmed', 'Deaths', 'CFR', 'No. of Countries']\n",
    "    \n",
    "    fig, axes = plt.subplots(1, 4, figsize=(24, 4))\n",
    "    axes = axes.flatten()\n",
    "\n",
    "    for ind, col in enumerate(col):\n",
    "        axes[ind].text(0.5, 0.6, col, \n",
    "                ha='center', va='center',\n",
    "                fontfamily='monospace', fontsize=32, \n",
    "                color='white', backgroundcolor='black')\n",
    "\n",
    "        axes[ind].text(0.5, 0.3, df[df['Epidemic']==epidemic][col].values[0], \n",
    "                ha='center', va='center',\n",
    "                fontfamily='monospace', fontsize=48, fontweight='bold',\n",
    "                color=color, backgroundcolor='white')\n",
    "\n",
    "        axes[ind].set_axis_off()"
   ]
  },
  {
   "cell_type": "code",
   "execution_count": null,
   "metadata": {
    "_kg_hide-input": true,
    "_kg_hide-output": true
   },
   "outputs": [],
   "source": [
    "def plot_treemap(dataframe, var, val):\n",
    "    fig = px.treemap(dataframe.sort_values(by=val, ascending=False).reset_index(drop=True), \n",
    "                 path=[var], values=val, title='Country Wise No. of Cases',\n",
    "                 color_discrete_sequence = px.colors.qualitative.Dark2)\n",
    "    fig.data[0].textinfo = 'label+text+value'\n",
    "    fig.show()"
   ]
  },
  {
   "cell_type": "markdown",
   "metadata": {},
   "source": [
    "# EDA"
   ]
  },
  {
   "cell_type": "markdown",
   "metadata": {},
   "source": [
    "## 1. COVID-19"
   ]
  },
  {
   "cell_type": "code",
   "execution_count": null,
   "metadata": {
    "_kg_hide-input": true
   },
   "outputs": [],
   "source": [
    "plot_card_grid('COVID-19', 'midnightblue')"
   ]
  },
  {
   "cell_type": "code",
   "execution_count": null,
   "metadata": {
    "_kg_hide-input": true,
    "_kg_hide-output": true
   },
   "outputs": [],
   "source": [
    "c_lat['Country'] = c_lat['Country'].replace('South Korea', 'Korea')\n",
    "c_lat['Country'] = c_lat['Country'].replace('US', 'United States')\n",
    "c_lat['Country'] = c_lat['Country'].replace('Taiwan*', 'Taiwan')\n",
    "c_lat['Country'] = c_lat['Country'].replace('Antigua and Barbuda', 'Antigua and Barb.')\n",
    "c_lat['Country'] = c_lat['Country'].replace('Bosnia and Herzegovina', 'Bosnia and Herz.')\n",
    "c_lat['Country'] = c_lat['Country'].replace('Burma', 'Myanmar')\n",
    "c_lat['Country'] = c_lat['Country'].replace('Central African Republic', 'Central African Rep.')\n",
    "c_lat['Country'] = c_lat['Country'].replace('Dominican Republic', 'Dominican Rep.')\n",
    "c_lat['Country'] = c_lat['Country'].replace('Equatorial Guinea', 'Eq. Guinea')\n",
    "c_lat['Country'] = c_lat['Country'].replace('Laos', 'Lao PDR')\n",
    "c_lat['Country'] = c_lat['Country'].replace('Saint Kitts and Nevis', 'St. Kitts and Nevis')\n",
    "c_lat['Country'] = c_lat['Country'].replace('Saint Vincent and the Grenadines', 'St. Vin. and Gren.')\n",
    "c_lat['Country'] = c_lat['Country'].replace('Western Sahara', 'W. Sahara')\n",
    "c_lat['Country'] = c_lat['Country'].replace('Cabo Verde', 'Cape Verde')\n",
    "c_lat['Country'] = c_lat['Country'].replace('Congo (Kinshasa)', 'Dem. Rep. Congo')\n",
    "c_lat['Country'] = c_lat['Country'].replace('Sao Tome and Principe', 'São Tomé and Principe')\n",
    "c_lat['Country'] = c_lat['Country'].replace('Eswatini', 'Swaziland')\n",
    "c_lat['Country'] = c_lat['Country'].replace(\"Cote d'Ivoire\", \"Côte d'Ivoire\")\n",
    "c_lat['Country'] = c_lat['Country'].replace('South Sudan', 'S. Sudan')\n",
    "c_lat['Country'] = c_lat['Country'].replace('Czechia', 'Czech Rep.')\n",
    "c_lat['Country'] = c_lat['Country'].replace('North Macedonia', 'Macedonia')\n",
    "c_lat['Country'] = c_lat['Country'].replace('Congo (Brazzaville)', 'Congo')"
   ]
  },
  {
   "cell_type": "code",
   "execution_count": null,
   "metadata": {
    "_kg_hide-input": true,
    "_kg_hide-output": true
   },
   "outputs": [],
   "source": [
    "a = set(world_map['name'].unique())\n",
    "# a\n",
    "\n",
    "b = set(c_lat['Country'])\n",
    "# b\n",
    "\n",
    "# b.difference(a)"
   ]
  },
  {
   "cell_type": "code",
   "execution_count": null,
   "metadata": {
    "_kg_hide-input": true,
    "_kg_hide-output": true
   },
   "outputs": [],
   "source": [
    "# a.difference(b)"
   ]
  },
  {
   "cell_type": "code",
   "execution_count": null,
   "metadata": {
    "_kg_hide-input": true,
    "_kg_hide-output": true
   },
   "outputs": [],
   "source": [
    "covid_map = world_map.merge(c_lat, left_on='name', right_on='Country')\n",
    "covid_map = covid_map.sort_values('Cases', ascending=False)\n",
    "# covid_map.head()"
   ]
  },
  {
   "cell_type": "code",
   "execution_count": null,
   "metadata": {
    "_kg_hide-input": true,
    "_kg_hide-output": false
   },
   "outputs": [],
   "source": [
    "fig, ax = plt.subplots(figsize=(18, 8))\n",
    "\n",
    "world_map.plot(ax=ax, color='gainsboro')\n",
    "\n",
    "covid_map.plot(ax=ax, color='royalblue')\n",
    "covid_map[covid_map['Cases'] > 100000].plot(ax=ax, color='midnightblue')\n",
    "covid_map[covid_map['Cases'] < 1000].plot(ax=ax, color='lightsteelblue')\n",
    "\n",
    "ax.text(180, 33, 'With 100,000 + cases', color='white', backgroundcolor='midnightblue',\n",
    "        fontfamily='monospace', fontsize=16)\n",
    "ax.text(180, 20, 'With 1000 - 100,000 cases', color='white', backgroundcolor='royalblue',\n",
    "        fontfamily='monospace', fontsize=16)\n",
    "ax.text(180, 7, 'With < 1000 cases', color='white', backgroundcolor='lightsteelblue',\n",
    "        fontfamily='monospace', fontsize=16)\n",
    "\n",
    "ax.set_title('COVID-19 Reported Countries', loc='left', fontdict={'fontsize':24, \n",
    "                                            'fontfamily':'monospace', \n",
    "                                            'fontweight': 'bold',\n",
    "                                            'color':'black'})\n",
    "\n",
    "ax.set_axis_off()"
   ]
  },
  {
   "cell_type": "code",
   "execution_count": null,
   "metadata": {
    "_kg_hide-input": true
   },
   "outputs": [],
   "source": [
    "plot_treemap(c_lat_grp, 'Country', 'Cases')"
   ]
  },
  {
   "cell_type": "markdown",
   "metadata": {},
   "source": [
    "## 2. MERS"
   ]
  },
  {
   "cell_type": "code",
   "execution_count": null,
   "metadata": {
    "_kg_hide-input": true
   },
   "outputs": [],
   "source": [
    "plot_card_grid('MERS', 'dodgerblue')"
   ]
  },
  {
   "cell_type": "code",
   "execution_count": null,
   "metadata": {
    "_kg_hide-input": true
   },
   "outputs": [],
   "source": [
    "mers_cntry['Country'] = mers_cntry['Country'].replace('Republic of Korea', 'Korea')\n",
    "mers_cntry['Country'] = mers_cntry['Country'].replace('United States of America', 'United States')\n",
    "\n",
    "mers_map = world_map.merge(mers_cntry, left_on='name', right_on='Country')\n",
    "# mers_map"
   ]
  },
  {
   "cell_type": "code",
   "execution_count": null,
   "metadata": {
    "_kg_hide-input": true
   },
   "outputs": [],
   "source": [
    "\n",
    "\n",
    "mers_countries = world_map[world_map['name'].isin(mers_cntry['Country'].unique())]\n",
    "# sar_countries.head()\n",
    "\n",
    "fig, ax = plt.subplots(figsize=(18, 8))\n",
    "\n",
    "world_map.plot(ax=ax, color='gainsboro')\n",
    "mers_map.plot(ax=ax, color='dodgerblue')\n",
    "mers_map[mers_map['Confirmed'] > 10].plot(ax=ax, color='limegreen', markersize=10)\n",
    "mers_map[mers_map['Confirmed'] > 100].plot(ax=ax, color='gold', markersize=10)\n",
    "mers_map[mers_map['Confirmed'] > 1000].plot(ax=ax, color='orangered', markersize=10)\n",
    "\n",
    "\n",
    "ax.text(180, 46, 'With 1000 + cases', color='white', backgroundcolor='red',\n",
    "        fontfamily='monospace', fontsize=16)\n",
    "ax.text(180, 33, 'With 1000 - 100 cases', color='white', backgroundcolor='gold',\n",
    "        fontfamily='monospace', fontsize=16)\n",
    "ax.text(180, 20, 'With 100 - 10 cases', color='white', backgroundcolor='limegreen',\n",
    "        fontfamily='monospace', fontsize=16)\n",
    "ax.text(180, 7, 'With 10 - 1 cases', color='white', backgroundcolor='dodgerblue',\n",
    "        fontfamily='monospace', fontsize=16)\n",
    "\n",
    "\n",
    "ax.set_title('MERS Reported Countries', loc='left', fontdict={'fontsize':24, \n",
    "                                            'fontfamily':'monospace', \n",
    "                                            'fontweight': 'bold',\n",
    "                                            'color': 'black'})\n",
    "ax.set_axis_off()"
   ]
  },
  {
   "cell_type": "code",
   "execution_count": null,
   "metadata": {
    "_kg_hide-input": true
   },
   "outputs": [],
   "source": [
    "plot_treemap(mers_cntry, 'Country', 'Confirmed')"
   ]
  },
  {
   "cell_type": "markdown",
   "metadata": {},
   "source": [
    "## 3. SARS"
   ]
  },
  {
   "cell_type": "code",
   "execution_count": null,
   "metadata": {
    "_kg_hide-input": true
   },
   "outputs": [],
   "source": [
    "plot_card_grid('SARS', 'darkorange')"
   ]
  },
  {
   "cell_type": "code",
   "execution_count": null,
   "metadata": {
    "_kg_hide-input": true
   },
   "outputs": [],
   "source": [
    "sars_03['Country'] = sars_03['Country'].replace('Hong Kong SAR, China', 'Hong Kong')\n",
    "sars_03['Country'] = sars_03['Country'].replace('Macao SAR, China', 'Macao')\n",
    "sars_03['Country'] = sars_03['Country'].replace('Republic of Ireland', 'Ireland')\n",
    "sars_03['Country'] = sars_03['Country'].replace('Republic of Korea', 'Korea')\n",
    "sars_03['Country'] = sars_03['Country'].replace('Russian Federation', 'Russia')\n",
    "sars_03['Country'] = sars_03['Country'].replace('Taiwan, China', 'Taiwan')\n",
    "sars_03['Country'] = sars_03['Country'].replace('Viet Nam', 'Vietnam')\n",
    "\n",
    "sar_countries = world_map[world_map['name'].isin(sars_03['Country'].unique())]\n",
    "# sar_countries.head()\n",
    "\n",
    "fig, ax = plt.subplots(figsize=(18, 8))\n",
    "\n",
    "world_map.plot(ax=ax, color='lightgrey')\n",
    "sar_countries.plot(ax=ax, color='darkorange', markersize=10)\n",
    "\n",
    "ax.set_title('SARS Reported Countries', loc='left', fontdict={'fontsize':24, \n",
    "                                            'fontfamily':'monospace', \n",
    "                                            'fontweight': 'bold',\n",
    "                                            'color':'black'})\n",
    "ax.set_axis_off()"
   ]
  },
  {
   "cell_type": "code",
   "execution_count": null,
   "metadata": {
    "_kg_hide-input": true
   },
   "outputs": [],
   "source": [
    "plot_treemap(s_lat, 'Country', 'Cases')"
   ]
  },
  {
   "cell_type": "markdown",
   "metadata": {},
   "source": [
    "## 4. Western Africa Ebola Outbreak"
   ]
  },
  {
   "cell_type": "code",
   "execution_count": null,
   "metadata": {
    "_kg_hide-input": true
   },
   "outputs": [],
   "source": [
    "plot_card_grid('EBOLA', 'lightseagreen')"
   ]
  },
  {
   "cell_type": "code",
   "execution_count": null,
   "metadata": {
    "_kg_hide-input": true
   },
   "outputs": [],
   "source": [
    "ebola_14['Country'] = ebola_14['Country'].replace('United States of America', 'United States')\n",
    "\n",
    "ebola_countries = world_map[world_map['name'].isin(ebola_14['Country'].unique())]\n",
    "# sar_countries.head()\n",
    "\n",
    "fig, ax = plt.subplots(figsize=(18, 8))\n",
    "\n",
    "world_map.plot(ax=ax, color='lightgrey')\n",
    "ebola_countries.plot(ax=ax, color='lightseagreen', markersize=10)\n",
    "\n",
    "ax.set_title('EBOLA Reported Countries', loc='left', fontdict={'fontsize':24, \n",
    "                                            'fontfamily':'monospace', \n",
    "                                            'fontweight': 'bold',\n",
    "                                            'color':'black'})\n",
    "ax.set_axis_off()"
   ]
  },
  {
   "cell_type": "code",
   "execution_count": null,
   "metadata": {
    "_kg_hide-input": true
   },
   "outputs": [],
   "source": [
    "plot_treemap(e_lat, 'Country', 'Cases')"
   ]
  },
  {
   "cell_type": "markdown",
   "metadata": {},
   "source": [
    "## 5. H1N1 | Swine Flu"
   ]
  },
  {
   "cell_type": "code",
   "execution_count": null,
   "metadata": {
    "_kg_hide-input": true
   },
   "outputs": [],
   "source": [
    "plot_card_grid('H1N1', 'gold')"
   ]
  },
  {
   "cell_type": "markdown",
   "metadata": {},
   "source": [
    "## 6. Nipha"
   ]
  },
  {
   "cell_type": "code",
   "execution_count": null,
   "metadata": {
    "_kg_hide-input": true
   },
   "outputs": [],
   "source": [
    "# Countries with reported outbreak\n",
    "reported = ['Malaysia', 'Singapore', 'India', 'Bangladesh']\n",
    "\n",
    "# Countries with reported outbreak or at risk based on serological evidence or molecular detection in Pteropus bats\n",
    "at_risk = 'Australia, Bangladesh, Cambodia, China, India, Indonesia, Madagascar, Papua New Guinea, Taiwan, Thailand'\n",
    "at_risk = at_risk.split(', ')\n",
    "\n",
    "# Home range of Pteropus bats\n",
    "bats_home = 'Bhutan, Brunei, China, India, Indonesia, Lao PDR, Madagascar, Myanmar, Nepal, Philippines, Papua New Guinea, Singapore, Taiwan, Thailand, Vietnam'\n",
    "bats_home = bats_home.split(', ')"
   ]
  },
  {
   "cell_type": "code",
   "execution_count": null,
   "metadata": {
    "_kg_hide-input": true
   },
   "outputs": [],
   "source": [
    "a = set(world_map['name'].unique())\n",
    "# a\n",
    "\n",
    "b = set(bats_home)\n",
    "# b\n",
    "\n",
    "# b.difference(a)"
   ]
  },
  {
   "cell_type": "code",
   "execution_count": null,
   "metadata": {
    "_kg_hide-input": true
   },
   "outputs": [],
   "source": [
    "temp_map = world_map[world_map['continent'].isin(['Asia', 'Africa']) | world_map['name'].isin(['Australia', 'Papua New Guinea'])]\n",
    "\n",
    "home = temp_map[temp_map['name'].isin(bats_home)]\n",
    "risk = temp_map[temp_map['name'].isin(at_risk)]\n",
    "case = temp_map[temp_map['name'].isin(reported)]\n",
    "\n",
    "fig, ax = plt.subplots(figsize=(18, 8))\n",
    "temp_map.plot(ax=ax, color='whitesmoke')\n",
    "\n",
    "ax = home.plot(ax=ax, color='paleturquoise', markersize=10, legend=True)\n",
    "ax = risk.plot(ax=ax, color='mediumturquoise', markersize=10, legend=True)\n",
    "ax = case.plot(ax=ax, color='teal', markersize=10, legend=True)\n",
    "\n",
    "ax.text(180, 43, 'Countries with reported outbreak', fontfamily='monospace',\n",
    "        fontsize=16, color='white', backgroundcolor='teal')\n",
    "ax.text(180, 25, 'Countries with reported outbreak /\\nat risk based on serological evidence /\\nmolecular detection in Pteropus bats', \n",
    "        fontfamily='monospace', fontsize=16, color='white', backgroundcolor='mediumturquoise')\n",
    "ax.text(180, 16, 'Home range of Pteropus bats', fontfamily='monospace',\n",
    "        fontsize=16, color='white', backgroundcolor='paleturquoise')\n",
    "\n",
    "ax.set_title('Nipah Virus Distribution Map', loc='left', fontdict={'fontsize':24, \n",
    "                                            'fontfamily':'monospace', \n",
    "                                            'fontweight': 'bold',\n",
    "                                            'color':'black'})\n",
    "ax.set_axis_off()"
   ]
  },
  {
   "cell_type": "markdown",
   "metadata": {},
   "source": [
    "## 7. Zika"
   ]
  },
  {
   "cell_type": "code",
   "execution_count": 12,
   "metadata": {
    "_kg_hide-input": true
   },
   "outputs": [],
   "source": [
    "# Areas with Zika outbreaks (red areas): \n",
    "red_zone = \"\"\n",
    "red_zone = red_zone.split(', ')\n",
    "    \n",
    "# Areas with current or past transmission but no Zika outbreak (purple areas): \n",
    "purple_zone = \"American Samoa, Angola, Anguilla, Antigua and Barbuda, Argentina, Aruba, Bahamas, Bangladesh, Barbados, Belize, Bolivia, Bonaire, Brazil, British Virgin Islands, Burkina Faso, Myanmar, Burundi, Cambodia, Cameroon, Cape Verde, Cayman Islands, Central African Rep., Colombia, Cook Islands, Costa Rica, Cuba, Curacao, Dominica, Dominican Republic, Easter Island, Ecuador, El Salvador, Ethiopia, Federated States of Micronesia, Fiji, France, French Guiana, French Polynesia, Gabon, Grenada, Guadeloupe, Guatemala, Guinea-Bissau, Guyana, Haiti, Honduras, India, Indonesia, Ivory Coast, Jamaica, Kiribati, Lao PDR, Malaysia, Maldives, Marshall Islands, Martinique, Mexico, Montserrat, New Caledonia, Nicaragua, Nigeria, Palau, Panama, Papua New Guinea, Paraguay, Peru, Philippines, Puerto Rico, Saba, Saint Barthelemy, Saint Kitts and Nevis, Saint Lucia, Saint Martin, Saint Vincent and the Grenadines, Samoa, Senegal, Singapore, Sint Eustatius, Sint Maarten, Solomon Islands, Suriname, Thailand, Tonga, Trinidad and Tobago, Turks and Caicos, Uganda, United States, United States Virgin Islands, Vanuatu, Venezuela, Vietnam\"\n",
    "purple_zone = purple_zone.split(', ')\n",
    "\n",
    "# Areas with mosquitoes but no reported Zika cases (yellow areas): \n",
    "yellow_zone = \"Australia, Benin, Bhutan, Botswana, Brunei, Chad, China, Christmas Island, Congo, Dem. Rep. Congo, Djibouti, East Timor, Egypt, Equatorial Guinea, Eritrea, Georgia, Ghana, Guam, Guinea, Kenya, Liberia, Madagascar, Madeira Islands, Malawi, Mali, Mozambique, Namibia, Nauru, Nepal, Niger, Niue, Northern Mariana Islands, Oman, Pakistan, Russia, Rwanda, Saudi Arabia, Sierra Leone, Somalia, South Africa, S. Sudan, Sri Lanka, Sudan, Taiwan, Tanzania, The Gambia, Togo, Tokelau, Turkey, Tuvalu, Uruguay, Wallis and Futuna, Yemen, Zambia, Zimbabwe\"\n",
    "yellow_zone = yellow_zone.split(', ')\n",
    "\n",
    "# Areas with no mosquitoes that spread Zika (green areas): \n",
    "green_zone = \"Afghanistan, Albania, Algeria, Andorra, Armenia, Austria, Azerbaijan, Azores, Bahrain, Belarus, Belgium, Bermuda, Bosnia and Herzegovina, British Indian Ocean Territory, Bulgaria, Canada, Canary Islands, Chile, Cocos Islands, Comoros, Corsica, Croatia, Crozet Islands, Cyprus, Czech Republic, Denmark, Estonia, Eswatini, Falkland Islands, Faroe Islands, Finland, Germany, Gibraltar, Greece, Greenland, Guernsey, Hong Kong, Hungary, Iceland, Iran, Iraq, Ireland, Isle of Man, Israel, Italy, Japan, Jersey, Jordan, Kazakhstan, Kerguelen Islands, Kosovo, Kuwait, Kyrgyzstan, Latvia, Lebanon, Lesotho, Libya, Liechtenstein, Lithuania, Luxembourg, Macau, Malta, Mauritania, Mauritius, Mayotte, Moldova, Monaco, Mongolia, Montenegro, Morocco, Netherlands, New Zealand, Norfolk Island, Dem. Rep. Korea, North Macedonia, Norway, Pitcairn Islands, Poland, Portugal, Qatar, Reunion, Romania, Saint Helena, Saint Paul and New Amsterdam Islands, Saint Pierre and Miquelon, San Marino, São Tomé and Principe, Serbia, Seychelles, Slovakia, Slovenia, South Georgia and the South Sandwich Islands, Korea, Spain, Sweden, Switzerland, Syria, Tajikistan, Tunisia, Turkmenistan, Ukraine, United Arab Emirates, United Kingdom, Uzbekistan, Vatican City, Wake Island, Western Sahara\"\n",
    "green_zone = green_zone.split(', ')"
   ]
  },
  {
   "cell_type": "code",
   "execution_count": 13,
   "metadata": {
    "_kg_hide-input": true
   },
   "outputs": [
    {
     "ename": "NameError",
     "evalue": "name 'world_map' is not defined",
     "output_type": "error",
     "traceback": [
      "\u001b[0;31m---------------------------------------------------------------------------\u001b[0m",
      "\u001b[0;31mNameError\u001b[0m                                 Traceback (most recent call last)",
      "\u001b[0;32m<ipython-input-13-ad3f84af58f3>\u001b[0m in \u001b[0;36m<module>\u001b[0;34m\u001b[0m\n\u001b[0;32m----> 1\u001b[0;31m \u001b[0ma\u001b[0m \u001b[0;34m=\u001b[0m \u001b[0mset\u001b[0m\u001b[0;34m(\u001b[0m\u001b[0mworld_map\u001b[0m\u001b[0;34m[\u001b[0m\u001b[0;34m'name'\u001b[0m\u001b[0;34m]\u001b[0m\u001b[0;34m.\u001b[0m\u001b[0munique\u001b[0m\u001b[0;34m(\u001b[0m\u001b[0;34m)\u001b[0m\u001b[0;34m)\u001b[0m\u001b[0;34m\u001b[0m\u001b[0;34m\u001b[0m\u001b[0m\n\u001b[0m\u001b[1;32m      2\u001b[0m \u001b[0;31m# a\u001b[0m\u001b[0;34m\u001b[0m\u001b[0;34m\u001b[0m\u001b[0;34m\u001b[0m\u001b[0m\n\u001b[1;32m      3\u001b[0m \u001b[0;34m\u001b[0m\u001b[0m\n\u001b[1;32m      4\u001b[0m \u001b[0mb\u001b[0m \u001b[0;34m=\u001b[0m \u001b[0mset\u001b[0m\u001b[0;34m(\u001b[0m\u001b[0mgreen_zone\u001b[0m\u001b[0;34m)\u001b[0m\u001b[0;34m\u001b[0m\u001b[0;34m\u001b[0m\u001b[0m\n\u001b[1;32m      5\u001b[0m \u001b[0;31m# b\u001b[0m\u001b[0;34m\u001b[0m\u001b[0;34m\u001b[0m\u001b[0;34m\u001b[0m\u001b[0m\n",
      "\u001b[0;31mNameError\u001b[0m: name 'world_map' is not defined"
     ]
    }
   ],
   "source": [
    "a = set(world_map['name'].unique())\n",
    "# a\n",
    "\n",
    "b = set(green_zone)\n",
    "# b\n",
    "\n",
    "# b.difference(a)"
   ]
  },
  {
   "cell_type": "code",
   "execution_count": null,
   "metadata": {
    "_kg_hide-input": true
   },
   "outputs": [],
   "source": [
    "# r = world_map[world_map['name'].isin(red_zone)]\n",
    "p = world_map[world_map['name'].isin(purple_zone)]\n",
    "y = world_map[world_map['name'].isin(yellow_zone)]\n",
    "g = world_map[world_map['name'].isin(green_zone)]\n",
    "\n",
    "fig, ax = plt.subplots(figsize=(18, 10))\n",
    "world_map.plot(ax=ax, color='whitesmoke')\n",
    "\n",
    "# r.plot(ax=ax, color='tomato', markersize=10, label='With current Outbreak', legend=True)\n",
    "p.plot(ax=ax, color='slateblue', legend=True)\n",
    "y.plot(ax=ax, color='gold', legend=True)\n",
    "g.plot(ax=ax, color='limegreen', legend=True)\n",
    "\n",
    "ax.text(-150, -75, 'Areas with current Zika outbreaks', \n",
    "        fontfamily='monospace', fontsize=16, color='white', backgroundcolor='tomato')\n",
    "ax.text(-18, -75, 'Areas with current or past transmission but no Zika outbreak', \n",
    "        fontfamily='monospace', fontsize=16, color='white', backgroundcolor='slateblue')\n",
    "ax.text(-150, -88, 'Areas with mosquitoes but no reported Zika cases', \n",
    "        fontfamily='monospace', fontsize=16, color='black', backgroundcolor='gold')\n",
    "ax.text(40, -88, 'Areas with no mosquitoes that spread Zika', \n",
    "        fontfamily='monospace', fontsize=16, color='white', backgroundcolor='limegreen')\n",
    "\n",
    "ax.set_title('ZIKA', loc='left', fontdict={'fontsize': 24, \n",
    "                                            'fontfamily': 'monospace', \n",
    "                                            'fontweight': 'bold',\n",
    "                                            'color': 'black'})\n",
    "ax.set_axis_off()"
   ]
  },
  {
   "cell_type": "markdown",
   "metadata": {},
   "source": [
    "Source - https://wwwnc.cdc.gov/travel/page/zika-information\n",
    "\n",
    "> * Purple Area - Areas with current or past transmission but no Zika outbreak\n",
    "> * Yellow Area - Areas with mosquitoes but no reported Zika cases\n",
    "> * Green Area - Areas with no mosquitoes that spread Zika"
   ]
  },
  {
   "cell_type": "markdown",
   "metadata": {},
   "source": [
    "# Comparison"
   ]
  },
  {
   "cell_type": "markdown",
   "metadata": {},
   "source": [
    "## World Map"
   ]
  },
  {
   "cell_type": "code",
   "execution_count": null,
   "metadata": {
    "_kg_hide-input": true
   },
   "outputs": [],
   "source": [
    "px.scatter_geo(df, lat='Latitude', lon='Longitude', color='Epidemic', \n",
    "               hover_data=['First Reported Year', 'First Reported Place'], \n",
    "               size=[1 for i in range(len(df))], \n",
    "               title='From which place did the epidemic outbroke?',\n",
    "               color_discrete_sequence = px.colors.qualitative.Dark2)"
   ]
  },
  {
   "cell_type": "markdown",
   "metadata": {},
   "source": [
    "## Timeline"
   ]
  },
  {
   "cell_type": "code",
   "execution_count": null,
   "metadata": {
    "_kg_hide-input": true
   },
   "outputs": [],
   "source": [
    "fig = px.scatter(df, y='First Reported Date', \n",
    "                 size=df['Confirmed']**0.3, color='Epidemic', \n",
    "                 hover_name='Epidemic', text='Epidemic', title='First Reported Year', \n",
    "                 width=350, height=700, range_x=[-0.1, 0.2],\n",
    "                 color_discrete_sequence = px.colors.qualitative.Dark2)\n",
    "fig.update_traces(textposition='middle right')\n",
    "fig.update_xaxes(showticklabels=False)\n",
    "fig.update_layout(showlegend=False, xaxis_title=\"\", yaxis_title=\"\")\n",
    "fig.show()"
   ]
  },
  {
   "cell_type": "markdown",
   "metadata": {},
   "source": [
    "## Top countries"
   ]
  },
  {
   "cell_type": "code",
   "execution_count": null,
   "metadata": {},
   "outputs": [],
   "source": [
    "# plotly hbar graphs from 'df' dataframe\n",
    "def plot_hbar(col, title, n=5):\n",
    "    fig = px.bar(df.sort_values(col,ascending=False)[:n], \n",
    "                 x=col, y=\"Epidemic\", color='Epidemic', text=col, \n",
    "                 height=400, width=700, orientation='h',\n",
    "                 color_discrete_sequence = px.colors.qualitative.Dark2)\n",
    "    fig.update_traces(textposition='auto')\n",
    "    fig.update_layout(title=title,\n",
    "                      xaxis_title=\"\",\n",
    "                      yaxis_title=\"\",\n",
    "                      uniformtext_minsize=8, \n",
    "                      uniformtext_mode='hide', \n",
    "                      showlegend=False)\n",
    "    fig.show()"
   ]
  },
  {
   "cell_type": "code",
   "execution_count": null,
   "metadata": {
    "_kg_hide-input": true
   },
   "outputs": [],
   "source": [
    "plot_hbar('Confirmed', \"No. of Confirmed Cases\")"
   ]
  },
  {
   "cell_type": "code",
   "execution_count": null,
   "metadata": {
    "_kg_hide-input": true
   },
   "outputs": [],
   "source": [
    "plot_hbar('Deaths', \"No. of Deaths Reported\")"
   ]
  },
  {
   "cell_type": "code",
   "execution_count": null,
   "metadata": {
    "_kg_hide-input": true
   },
   "outputs": [],
   "source": [
    "plot_hbar('No. of Countries', \"No. of Countries to which the epidemic spread\", 7)"
   ]
  },
  {
   "cell_type": "code",
   "execution_count": null,
   "metadata": {
    "_kg_hide-input": true
   },
   "outputs": [],
   "source": [
    "n_days = df['1000th Case On'] - df['First Reported Date']\n",
    "df['n_days_to_1000_cases'] = n_days.dt.days\n",
    "\n",
    "temp = df[['Epidemic', 'n_days_to_1000_cases']] \\\n",
    "            .sort_values('n_days_to_1000_cases', ascending=True) \\\n",
    "            .dropna()\n",
    "\n",
    "fig = px.bar(temp, x='n_days_to_1000_cases', y='Epidemic', color='Epidemic', \n",
    "             text='n_days_to_1000_cases', height=400, width=700, orientation='h',\n",
    "             color_discrete_sequence = px.colors.qualitative.Set2)\n",
    "fig.update_traces(textposition='auto')\n",
    "fig.update_layout(title='No. of days to 1000 cases',\n",
    "                  xaxis_title=\"\",\n",
    "                  yaxis_title=\"\",\n",
    "                  uniformtext_minsize=8, \n",
    "                  uniformtext_mode='hide', \n",
    "                  showlegend=False)\n",
    "fig.show()"
   ]
  },
  {
   "cell_type": "markdown",
   "metadata": {},
   "source": [
    "## In the first 100 Days"
   ]
  },
  {
   "cell_type": "code",
   "execution_count": null,
   "metadata": {},
   "outputs": [],
   "source": [
    "def plot_first_n_days(col, n_days, title):\n",
    "    \n",
    "    temp = combined[combined['nth_day']<=n_days]\n",
    "    \n",
    "    fig = px.line(temp, x=\"nth_day\", y=col, color='epidemic', \n",
    "                  range_x=[0, n_days], height=550, width=700,\n",
    "                  title=title+' '+str(n_days)+' days')\n",
    "    fig.update_layout(xaxis_rangeslider_visible=True)\n",
    "    fig.update_layout(xaxis_title=\"\",yaxis_title=\"\")\n",
    "    fig.show()"
   ]
  },
  {
   "cell_type": "code",
   "execution_count": null,
   "metadata": {},
   "outputs": [],
   "source": [
    "plot_first_n_days('Cases', 100, 'No. of Cases in the first')"
   ]
  },
  {
   "cell_type": "code",
   "execution_count": null,
   "metadata": {},
   "outputs": [],
   "source": [
    "plot_first_n_days('Deaths', 100, 'No. of Deaths in the first')"
   ]
  },
  {
   "cell_type": "code",
   "execution_count": null,
   "metadata": {},
   "outputs": [],
   "source": [
    "plot_first_n_days('n_countries', 100, 'No. of countries in the first')"
   ]
  },
  {
   "cell_type": "markdown",
   "metadata": {
    "_kg_hide-input": false
   },
   "source": [
    "## CFR\n",
    "\n",
    "> CFR (Case fatality rate), also called case fatality risk or case fatality ratio, in epidemiology, the proportion of people who die from a specified disease among all individuals diagnosed with the disease over a certain period of time. - *[Britannica](https://www.britannica.com/science/case-fatality-rate)*"
   ]
  },
  {
   "cell_type": "code",
   "execution_count": null,
   "metadata": {
    "_kg_hide-input": true
   },
   "outputs": [],
   "source": [
    "list_of_epidemic = df['Epidemic']\n",
    "list_of_cfr = df['CFR']\n",
    "mid = [float(i.split('-')[0]) for i in df['CFR']]\n",
    "end = [float(i.split('-')[1]) for i in df['CFR']]"
   ]
  },
  {
   "cell_type": "code",
   "execution_count": null,
   "metadata": {
    "_kg_hide-input": true
   },
   "outputs": [],
   "source": [
    "def plot_cfr(epidemic, mid, end, ax=ax):\n",
    "    \n",
    "    inc_day = []\n",
    "    for i in range(1, 101):\n",
    "        if(i<mid):\n",
    "            inc_day.append(2)\n",
    "        elif(i<end):\n",
    "            inc_day.append(1)\n",
    "        else:\n",
    "            inc_day.append(0)\n",
    "    inc_day = np.array(inc_day)\n",
    "    inc_day = inc_day.reshape(10, 10)\n",
    "\n",
    "    ax=sns.heatmap(inc_day, linewidths=2, square=True, \n",
    "                   xticklabels='', yticklabels='', ax=ax,\n",
    "                   cbar=False, cmap=['whitesmoke', 'coral','tomato'])\n",
    "    ax.set_title(epidemic, fontdict={'fontsize':16})\n",
    "    return ax"
   ]
  },
  {
   "cell_type": "code",
   "execution_count": null,
   "metadata": {
    "_kg_hide-input": true
   },
   "outputs": [],
   "source": [
    "fig, axes = plt.subplots(2, 3, figsize=(18, 8))\n",
    "plt.subplots_adjust(hspace=0.6, wspace=0.6)\n",
    "axes = axes.flatten()\n",
    "\n",
    "plt.text(-60, -10, 'Case\\nFatality\\nRate', fontsize=24, \n",
    "         fontfamily='monospace', fontweight='bold',\n",
    "         color='white', backgroundcolor='black')\n",
    "\n",
    "for ind in range(6):\n",
    "    plot_cfr(list_of_epidemic[ind] + ' | ' + list_of_cfr[ind] + ' %', \n",
    "             mid[ind], end[ind], ax=axes[ind])\n",
    "    \n",
    "plt.show()"
   ]
  },
  {
   "cell_type": "markdown",
   "metadata": {},
   "source": [
    "## Incubation Period\n",
    "\n",
    "> The incubation period is the number of days between when you’re infected with something and when you might see symptoms. - *[WebMD](https://www.webmd.com/lung/coronavirus-incubation-period)*"
   ]
  },
  {
   "cell_type": "code",
   "execution_count": null,
   "metadata": {
    "_kg_hide-input": true
   },
   "outputs": [],
   "source": [
    "list_of_epidemic = df['Epidemic'][:7]\n",
    "start = [int(i.split('-')[0]) for i in df['Incubation Period'][:7]]\n",
    "end = [int(i.split('-')[1]) for i in df['Incubation Period'][:7]]\n",
    "height = [a-b for a, b in zip(end, start)]"
   ]
  },
  {
   "cell_type": "code",
   "execution_count": null,
   "metadata": {
    "_kg_hide-input": true
   },
   "outputs": [],
   "source": [
    "sns.set_style('whitegrid')\n",
    "plt.figure(figsize=(6, 7))\n",
    "\n",
    "plt.hlines(y=list_of_epidemic, xmin=start, xmax=end, color='gray', alpha=0.8)\n",
    "plt.scatter(start, list_of_epidemic, color='turquoise', alpha=1, s=200, label='Min Days')\n",
    "plt.scatter(end, list_of_epidemic, color='deeppink', alpha=1 , s=200, label='Max Days')\n",
    " \n",
    "plt.text(-22, 5, 'Incubation\\nPeriod', fontsize=24, \n",
    "         fontfamily='monospace', fontweight='bold',\n",
    "         color='white', backgroundcolor='black')\n",
    "\n",
    "sns.despine(left=True, bottom=True)\n",
    "\n",
    "plt.xlim(0, 28)\n",
    "plt.xticks([i for i in range(0,29,3)])\n",
    "plt.legend(loc=(-0.8,0.7), ncol=2)\n",
    "plt.show()"
   ]
  },
  {
   "cell_type": "markdown",
   "metadata": {},
   "source": [
    "## R0 Score\n",
    "\n",
    "> R0 tells you the average number of people who will contract a contagious disease from one person with that disease. It specifically applies to a population of people who were previously free of infection and haven’t been vaccinated.  For example, if a disease has an R0 of 18, a person who has the disease will transmit it to an average of 18 other people. - *[Healthline](https://www.healthline.com/health/r-nought-reproduction-number)*"
   ]
  },
  {
   "cell_type": "code",
   "execution_count": null,
   "metadata": {
    "_kg_hide-input": true
   },
   "outputs": [],
   "source": [
    "list_of_epidemic = df['Epidemic'][:7]\n",
    "min_r0 = [float(i.split('-')[0]) for i in df['Ro'][:7]]\n",
    "max_r0 = [float(i.split('-')[1]) for i in df['Ro'][:7]]\n",
    "height = [a-b for a, b in zip(max_r0, min_r0)]"
   ]
  },
  {
   "cell_type": "code",
   "execution_count": null,
   "metadata": {
    "_kg_hide-input": true
   },
   "outputs": [],
   "source": [
    "sns.set_style('whitegrid')\n",
    "# plt.style.use('seaborn')\n",
    "plt.figure(figsize=(12, 5))\n",
    "\n",
    "plt.vlines(x=list_of_epidemic, ymin=min_r0, ymax=max_r0, color='red', alpha=0.7)\n",
    "plt.scatter(list_of_epidemic, min_r0, color='red', alpha=0.7, s=100, label='Min Days')\n",
    "plt.scatter(list_of_epidemic, max_r0, color='red', alpha=0.7, s=100, label='Max Days')\n",
    "\n",
    "plt.text(-1, 6, 'R0', fontsize=24, \n",
    "         fontfamily='monospace', fontweight='bold',\n",
    "         color='white', backgroundcolor='black')\n",
    "\n",
    "sns.despine(left=True, bottom=True)\n",
    "plt.show()"
   ]
  },
  {
   "cell_type": "markdown",
   "metadata": {},
   "source": [
    "# Related Works"
   ]
  },
  {
   "cell_type": "markdown",
   "metadata": {},
   "source": [
    "### COVID-19   \n",
    "> [htt://www.kaggle.com/imdevskp/covid-19-analysis-viz-prediction-comparisons](https://www.kaggle.com/imdevskp/covid-19-analysis-viz-prediction-comparisons)  \n",
    "### EBOLA   \n",
    "> [https://www.kaggle.com/imdevskp/western-africa-ebola-outbreak-analysis](https://www.kaggle.com/imdevskp/western-africa-ebola-outbreak-analysis)  \n",
    "### SARS   \n",
    "> [https://www.kaggle.com/imdevskp/sars-2003-outbreak-analysis](https://www.kaggle.com/imdevskp/sars-2003-outbreak-analysis)\n",
    "### MERS   \n",
    "> [https://www.kaggle.com/imdevskp/mers-outbreak-analysis](https://www.kaggle.com/imdevskp/mers-outbreak-analysis)"
   ]
  }
 ],
 "metadata": {
  "kernelspec": {
   "display_name": "Python 3",
   "language": "python",
   "name": "python3"
  },
  "language_info": {
   "codemirror_mode": {
    "name": "ipython",
    "version": 3
   },
   "file_extension": ".py",
   "mimetype": "text/x-python",
   "name": "python",
   "nbconvert_exporter": "python",
   "pygments_lexer": "ipython3",
   "version": "3.7.6"
  }
 },
 "nbformat": 4,
 "nbformat_minor": 4
}
